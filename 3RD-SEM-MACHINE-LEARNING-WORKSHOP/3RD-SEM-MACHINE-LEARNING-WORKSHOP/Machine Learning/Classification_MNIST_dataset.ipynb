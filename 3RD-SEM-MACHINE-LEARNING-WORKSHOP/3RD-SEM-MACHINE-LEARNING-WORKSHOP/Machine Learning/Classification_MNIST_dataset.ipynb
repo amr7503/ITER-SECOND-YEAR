{
 "cells": [
  {
   "cell_type": "code",
   "execution_count": 2,
   "id": "b8c766ee-ff71-43f0-8d95-030f9690a410",
   "metadata": {},
   "outputs": [],
   "source": [
    "from sklearn.datasets import fetch_openml \n",
    "mnist=fetch_openml('mnist_784',version=1)"
   ]
  },
  {
   "cell_type": "code",
   "execution_count": null,
   "id": "b88cc197-6baa-4129-9682-a25bbac5531f",
   "metadata": {},
   "outputs": [],
   "source": []
  }
 ],
 "metadata": {
  "kernelspec": {
   "display_name": "Python 3 (ipykernel)",
   "language": "python",
   "name": "python3"
  },
  "language_info": {
   "codemirror_mode": {
    "name": "ipython",
    "version": 3
   },
   "file_extension": ".py",
   "mimetype": "text/x-python",
   "name": "python",
   "nbconvert_exporter": "python",
   "pygments_lexer": "ipython3",
   "version": "3.12.6"
  }
 },
 "nbformat": 4,
 "nbformat_minor": 5
}
