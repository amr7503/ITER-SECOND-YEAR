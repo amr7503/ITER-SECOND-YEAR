{
 "cells": [
  {
   "cell_type": "code",
   "execution_count": null,
   "id": "25aa844d",
   "metadata": {},
   "outputs": [],
   "source": [
    "####################    DECEMBER 04 , 2024   #######################\n",
    "####################################################################"
   ]
  },
  {
   "cell_type": "code",
   "execution_count": null,
   "id": "7515c4ed",
   "metadata": {},
   "outputs": [
    {
     "name": "stdout",
     "output_type": "stream",
     "text": [
      "       0   1           2\n",
      "0    Nik  34  2022-12-12\n",
      "1  Katie  33  2022-12-01\n",
      "2   Evan  34  2022-02-02\n",
      "3   Kyra  34  2022-04-14\n"
     ]
    }
   ],
   "source": [
    "#Loading a List of Tuples into a pandas DataFrame\n",
    "import pandas as pd\n",
    "data = [ ('Nik',34, '2022-12-12'),\n",
    "         ('Katie',33, '2022-12-01'),\n",
    "         ('Evan',34, '2022-02-02'),\n",
    "         ('Kyra',34, '2022-04-14'),]\n",
    "df = pd.DataFrame(data)\n",
    "print(df)"
   ]
  },
  {
   "cell_type": "code",
   "execution_count": 2,
   "id": "522384d5",
   "metadata": {},
   "outputs": [
    {
     "name": "stdout",
     "output_type": "stream",
     "text": [
      "    Name  Age Date Joined\n",
      "0    Nik   34  2022-12-12\n",
      "1  Katie   33  2022-12-01\n",
      "2   Evan   34  2022-02-02\n",
      "3   Kyra   34  2022-04-14\n"
     ]
    }
   ],
   "source": [
    "#Adding meaningful columns to the DataFrame \n",
    "#by using the columns= parameter in the constructor\n",
    "\n",
    "import pandas as pd\n",
    "data = [ ('Nik',34, '2022-12-12'),\n",
    "         ('Katie',33, '2022-12-01'),\n",
    "         ('Evan',34, '2022-02-02'),\n",
    "         ('Kyra',34, '2022-04-14')]\n",
    "df = pd.DataFrame(data,columns=['Name','Age','Date Joined'])\n",
    "print(df)\n"
   ]
  },
  {
   "cell_type": "code",
   "execution_count": 8,
   "id": "66cb7d4c",
   "metadata": {},
   "outputs": [
    {
     "name": "stdout",
     "output_type": "stream",
     "text": [
      "    Name  Age Date Joined\n",
      "0    Nik   34  2022-12-12\n",
      "1  Katie   33  2022-12-01\n",
      "2   Evan   35  2022-02-02\n",
      "3   Kyra   34  2022-04-14\n"
     ]
    }
   ],
   "source": [
    "#Loading a List of Dictionaries into a pandas DataFrame\n",
    "\n",
    "import pandas as pd\n",
    "data = [ {'Name':'Nik','Age':34, 'Date Joined':'2022-12-12'},\n",
    "         {'Name':'Katie','Age':33, 'Date Joined':'2022-12-01'},\n",
    "         {'Name':'Evan','Age':35, 'Date Joined':'2022-02-02'},\n",
    "         {'Name':'Kyra','Age':34, 'Date Joined':'2022-04-14'}]\n",
    "df = pd.DataFrame(data)\n",
    "print(df)"
   ]
  },
  {
   "cell_type": "code",
   "execution_count": 9,
   "id": "ce2c5774",
   "metadata": {},
   "outputs": [
    {
     "name": "stdout",
     "output_type": "stream",
     "text": [
      "           Date Region                 Type  Units   Sales\n",
      "0    2020-07-11   East  Children's Clothing   18.0   306.0\n",
      "1    2020-09-23  North  Children's Clothing   14.0   448.0\n",
      "2    2020-04-02  South     Women's Clothing   17.0   425.0\n",
      "3    2020-02-28   East  Children's Clothing   26.0   832.0\n",
      "4    2020-03-19   West     Women's Clothing    3.0    33.0\n",
      "..          ...    ...                  ...    ...     ...\n",
      "995  2020-02-11   East  Children's Clothing   35.0   735.0\n",
      "996  2020-12-25  North       Men's Clothing    NaN  1155.0\n",
      "997  2020-08-31  South       Men's Clothing   13.0   208.0\n",
      "998  2020-08-23  South     Women's Clothing   17.0   493.0\n",
      "999  2020-08-17  North     Women's Clothing   25.0   300.0\n",
      "\n",
      "[1000 rows x 5 columns]\n"
     ]
    }
   ],
   "source": [
    "#Loading a CSV File into a Pandas DataFrame\n",
    "import pandas as pd\n",
    "df1=pd.read_csv('https://raw.githubusercontent.com/datagy/data/main/data.csv')\n",
    "print(df1)"
   ]
  },
  {
   "cell_type": "code",
   "execution_count": 14,
   "id": "d0497a64",
   "metadata": {},
   "outputs": [
    {
     "name": "stdout",
     "output_type": "stream",
     "text": [
      "      first_name          last_name   age            city  \\\n",
      "0          Alysa         Pentercost  60.0         Vithkuq   \n",
      "1        Shelden    Sainsbury-Brown  70.0          Satuba   \n",
      "2         Trevar  Thornton-Dewhirst  28.0       Axioúpoli   \n",
      "3       Cchaddie               Coye  49.0          Shaoha   \n",
      "4    Annecorinne              Irnys  63.0        Paris 07   \n",
      "..           ...                ...   ...             ...   \n",
      "995       Talbot         Stonbridge  57.0  Porto Ferreira   \n",
      "996        Nicol             Tonner  48.0        Waingapu   \n",
      "997       Shalna          Grishakov  56.0     Johor Bahru   \n",
      "998     Fredrika            Argrave  53.0           Tigre   \n",
      "999         Jedd              Tanti   NaN          Chanhe   \n",
      "\n",
      "                       career     income  \n",
      "0                     Support  102081.24  \n",
      "1                       Legal   67953.88  \n",
      "2    Research and Development   73236.43  \n",
      "3                       Legal   77842.96  \n",
      "4                     Support   84368.50  \n",
      "..                        ...        ...  \n",
      "995                Accounting   73681.14  \n",
      "996      Business Development   68850.01  \n",
      "997      Business Development   66733.33  \n",
      "998  Research and Development   74288.42  \n",
      "999                     Sales   93584.00  \n",
      "\n",
      "[1000 rows x 6 columns]\n"
     ]
    }
   ],
   "source": [
    "import pandas as pd\n",
    "df2=pd.read_csv('incomes.csv')\n",
    "print(df2)"
   ]
  },
  {
   "cell_type": "code",
   "execution_count": 18,
   "id": "6da81ab0",
   "metadata": {},
   "outputs": [
    {
     "name": "stdout",
     "output_type": "stream",
     "text": [
      "Reading first 5 rows of data\n",
      "         Date Region                 Type  Units  Sales\n",
      "0  2020-07-11   East  Children's Clothing   18.0  306.0\n",
      "1  2020-09-23  North  Children's Clothing   14.0  448.0\n",
      "2  2020-04-02  South     Women's Clothing   17.0  425.0\n",
      "3  2020-02-28   East  Children's Clothing   26.0  832.0\n",
      "4  2020-03-19   West     Women's Clothing    3.0   33.0\n",
      "\n",
      "\n",
      "Reading last 3 rows of data\n",
      "           Date Region              Type  Units  Sales\n",
      "997  2020-08-31  South    Men's Clothing   13.0  208.0\n",
      "998  2020-08-23  South  Women's Clothing   17.0  493.0\n",
      "999  2020-08-17  North  Women's Clothing   25.0  300.0\n"
     ]
    }
   ],
   "source": [
    "#Print first n rows & last n rows using .head(n) & tail(n)\n",
    "import pandas as pd\n",
    "df=pd.read_csv('https://raw.githubusercontent.com/datagy/data/main/data.csv')\n",
    "print('Reading first 5 rows of data')\n",
    "print(df.head(5))\n",
    "\n",
    "print('\\n\\nReading last 3 rows of data')\n",
    "print(df.tail(3))"
   ]
  },
  {
   "cell_type": "code",
   "execution_count": 19,
   "id": "5fd0facb",
   "metadata": {},
   "outputs": [
    {
     "data": {
      "text/html": [
       "<div>\n",
       "<style scoped>\n",
       "    .dataframe tbody tr th:only-of-type {\n",
       "        vertical-align: middle;\n",
       "    }\n",
       "\n",
       "    .dataframe tbody tr th {\n",
       "        vertical-align: top;\n",
       "    }\n",
       "\n",
       "    .dataframe thead th {\n",
       "        text-align: right;\n",
       "    }\n",
       "</style>\n",
       "<table border=\"1\" class=\"dataframe\">\n",
       "  <thead>\n",
       "    <tr style=\"text-align: right;\">\n",
       "      <th></th>\n",
       "      <th>Units</th>\n",
       "      <th>Sales</th>\n",
       "    </tr>\n",
       "  </thead>\n",
       "  <tbody>\n",
       "    <tr>\n",
       "      <th>count</th>\n",
       "      <td>911.000000</td>\n",
       "      <td>1000.000000</td>\n",
       "    </tr>\n",
       "    <tr>\n",
       "      <th>mean</th>\n",
       "      <td>19.638858</td>\n",
       "      <td>427.254000</td>\n",
       "    </tr>\n",
       "    <tr>\n",
       "      <th>std</th>\n",
       "      <td>9.471309</td>\n",
       "      <td>253.441362</td>\n",
       "    </tr>\n",
       "    <tr>\n",
       "      <th>min</th>\n",
       "      <td>3.000000</td>\n",
       "      <td>33.000000</td>\n",
       "    </tr>\n",
       "    <tr>\n",
       "      <th>25%</th>\n",
       "      <td>12.000000</td>\n",
       "      <td>224.000000</td>\n",
       "    </tr>\n",
       "    <tr>\n",
       "      <th>50%</th>\n",
       "      <td>20.000000</td>\n",
       "      <td>380.000000</td>\n",
       "    </tr>\n",
       "    <tr>\n",
       "      <th>75%</th>\n",
       "      <td>28.000000</td>\n",
       "      <td>575.000000</td>\n",
       "    </tr>\n",
       "    <tr>\n",
       "      <th>max</th>\n",
       "      <td>35.000000</td>\n",
       "      <td>1155.000000</td>\n",
       "    </tr>\n",
       "  </tbody>\n",
       "</table>\n",
       "</div>"
      ],
      "text/plain": [
       "            Units        Sales\n",
       "count  911.000000  1000.000000\n",
       "mean    19.638858   427.254000\n",
       "std      9.471309   253.441362\n",
       "min      3.000000    33.000000\n",
       "25%     12.000000   224.000000\n",
       "50%     20.000000   380.000000\n",
       "75%     28.000000   575.000000\n",
       "max     35.000000  1155.000000"
      ]
     },
     "execution_count": 19,
     "metadata": {},
     "output_type": "execute_result"
    }
   ],
   "source": [
    "# .describe() prints summary statistics of all numeric columns\n",
    "#such as count,mean,standard deviation,range & quartiles\n",
    "\n",
    "import pandas as pd\n",
    "df=pd.read_csv('https://raw.githubusercontent.com/datagy/data/main/data.csv')\n",
    "\n",
    "df.describe()"
   ]
  },
  {
   "cell_type": "code",
   "execution_count": null,
   "id": "95db249b",
   "metadata": {},
   "outputs": [],
   "source": [
    "####################    DECEMBER 06 , 2024   #######################\n",
    "####################################################################"
   ]
  },
  {
   "cell_type": "code",
   "execution_count": 7,
   "id": "5103e22c",
   "metadata": {},
   "outputs": [
    {
     "name": "stdout",
     "output_type": "stream",
     "text": [
      "     Pregnancies  Glucose  BloodPressure  SkinThickness  Insulin   BMI  \\\n",
      "0              6      148             72             35        0  33.6   \n",
      "1              1       85             66             29        0  26.6   \n",
      "2              8      183             64              0        0  23.3   \n",
      "3              1       89             66             23       94  28.1   \n",
      "4              0      137             40             35      168  43.1   \n",
      "..           ...      ...            ...            ...      ...   ...   \n",
      "763           10      101             76             48      180  32.9   \n",
      "764            2      122             70             27        0  36.8   \n",
      "765            5      121             72             23      112  26.2   \n",
      "766            1      126             60              0        0  30.1   \n",
      "767            1       93             70             31        0  30.4   \n",
      "\n",
      "     DiabetesPedigreeFunction  Age  Outcome  \n",
      "0                       0.627   50        1  \n",
      "1                       0.351   31        0  \n",
      "2                       0.672   32        1  \n",
      "3                       0.167   21        0  \n",
      "4                       2.288   33        1  \n",
      "..                        ...  ...      ...  \n",
      "763                     0.171   63        0  \n",
      "764                     0.340   27        0  \n",
      "765                     0.245   30        0  \n",
      "766                     0.349   47        1  \n",
      "767                     0.315   23        0  \n",
      "\n",
      "[768 rows x 9 columns] \n",
      "\n",
      "\n",
      "\n"
     ]
    },
    {
     "data": {
      "text/html": [
       "<div>\n",
       "<style scoped>\n",
       "    .dataframe tbody tr th:only-of-type {\n",
       "        vertical-align: middle;\n",
       "    }\n",
       "\n",
       "    .dataframe tbody tr th {\n",
       "        vertical-align: top;\n",
       "    }\n",
       "\n",
       "    .dataframe thead th {\n",
       "        text-align: right;\n",
       "    }\n",
       "</style>\n",
       "<table border=\"1\" class=\"dataframe\">\n",
       "  <thead>\n",
       "    <tr style=\"text-align: right;\">\n",
       "      <th></th>\n",
       "      <th>Pregnancies</th>\n",
       "      <th>Glucose</th>\n",
       "      <th>BloodPressure</th>\n",
       "      <th>SkinThickness</th>\n",
       "      <th>Insulin</th>\n",
       "      <th>BMI</th>\n",
       "      <th>DiabetesPedigreeFunction</th>\n",
       "      <th>Age</th>\n",
       "      <th>Outcome</th>\n",
       "    </tr>\n",
       "  </thead>\n",
       "  <tbody>\n",
       "    <tr>\n",
       "      <th>count</th>\n",
       "      <td>768.000000</td>\n",
       "      <td>768.000000</td>\n",
       "      <td>768.000000</td>\n",
       "      <td>768.000000</td>\n",
       "      <td>768.000000</td>\n",
       "      <td>768.000000</td>\n",
       "      <td>768.000000</td>\n",
       "      <td>768.000000</td>\n",
       "      <td>768.000000</td>\n",
       "    </tr>\n",
       "    <tr>\n",
       "      <th>mean</th>\n",
       "      <td>3.845052</td>\n",
       "      <td>120.894531</td>\n",
       "      <td>69.105469</td>\n",
       "      <td>20.536458</td>\n",
       "      <td>79.799479</td>\n",
       "      <td>31.992578</td>\n",
       "      <td>0.471876</td>\n",
       "      <td>33.240885</td>\n",
       "      <td>0.348958</td>\n",
       "    </tr>\n",
       "    <tr>\n",
       "      <th>std</th>\n",
       "      <td>3.369578</td>\n",
       "      <td>31.972618</td>\n",
       "      <td>19.355807</td>\n",
       "      <td>15.952218</td>\n",
       "      <td>115.244002</td>\n",
       "      <td>7.884160</td>\n",
       "      <td>0.331329</td>\n",
       "      <td>11.760232</td>\n",
       "      <td>0.476951</td>\n",
       "    </tr>\n",
       "    <tr>\n",
       "      <th>min</th>\n",
       "      <td>0.000000</td>\n",
       "      <td>0.000000</td>\n",
       "      <td>0.000000</td>\n",
       "      <td>0.000000</td>\n",
       "      <td>0.000000</td>\n",
       "      <td>0.000000</td>\n",
       "      <td>0.078000</td>\n",
       "      <td>21.000000</td>\n",
       "      <td>0.000000</td>\n",
       "    </tr>\n",
       "    <tr>\n",
       "      <th>25%</th>\n",
       "      <td>1.000000</td>\n",
       "      <td>99.000000</td>\n",
       "      <td>62.000000</td>\n",
       "      <td>0.000000</td>\n",
       "      <td>0.000000</td>\n",
       "      <td>27.300000</td>\n",
       "      <td>0.243750</td>\n",
       "      <td>24.000000</td>\n",
       "      <td>0.000000</td>\n",
       "    </tr>\n",
       "    <tr>\n",
       "      <th>50%</th>\n",
       "      <td>3.000000</td>\n",
       "      <td>117.000000</td>\n",
       "      <td>72.000000</td>\n",
       "      <td>23.000000</td>\n",
       "      <td>30.500000</td>\n",
       "      <td>32.000000</td>\n",
       "      <td>0.372500</td>\n",
       "      <td>29.000000</td>\n",
       "      <td>0.000000</td>\n",
       "    </tr>\n",
       "    <tr>\n",
       "      <th>75%</th>\n",
       "      <td>6.000000</td>\n",
       "      <td>140.250000</td>\n",
       "      <td>80.000000</td>\n",
       "      <td>32.000000</td>\n",
       "      <td>127.250000</td>\n",
       "      <td>36.600000</td>\n",
       "      <td>0.626250</td>\n",
       "      <td>41.000000</td>\n",
       "      <td>1.000000</td>\n",
       "    </tr>\n",
       "    <tr>\n",
       "      <th>max</th>\n",
       "      <td>17.000000</td>\n",
       "      <td>199.000000</td>\n",
       "      <td>122.000000</td>\n",
       "      <td>99.000000</td>\n",
       "      <td>846.000000</td>\n",
       "      <td>67.100000</td>\n",
       "      <td>2.420000</td>\n",
       "      <td>81.000000</td>\n",
       "      <td>1.000000</td>\n",
       "    </tr>\n",
       "  </tbody>\n",
       "</table>\n",
       "</div>"
      ],
      "text/plain": [
       "       Pregnancies     Glucose  BloodPressure  SkinThickness     Insulin  \\\n",
       "count   768.000000  768.000000     768.000000     768.000000  768.000000   \n",
       "mean      3.845052  120.894531      69.105469      20.536458   79.799479   \n",
       "std       3.369578   31.972618      19.355807      15.952218  115.244002   \n",
       "min       0.000000    0.000000       0.000000       0.000000    0.000000   \n",
       "25%       1.000000   99.000000      62.000000       0.000000    0.000000   \n",
       "50%       3.000000  117.000000      72.000000      23.000000   30.500000   \n",
       "75%       6.000000  140.250000      80.000000      32.000000  127.250000   \n",
       "max      17.000000  199.000000     122.000000      99.000000  846.000000   \n",
       "\n",
       "              BMI  DiabetesPedigreeFunction         Age     Outcome  \n",
       "count  768.000000                768.000000  768.000000  768.000000  \n",
       "mean    31.992578                  0.471876   33.240885    0.348958  \n",
       "std      7.884160                  0.331329   11.760232    0.476951  \n",
       "min      0.000000                  0.078000   21.000000    0.000000  \n",
       "25%     27.300000                  0.243750   24.000000    0.000000  \n",
       "50%     32.000000                  0.372500   29.000000    0.000000  \n",
       "75%     36.600000                  0.626250   41.000000    1.000000  \n",
       "max     67.100000                  2.420000   81.000000    1.000000  "
      ]
     },
     "execution_count": 7,
     "metadata": {},
     "output_type": "execute_result"
    }
   ],
   "source": [
    "import pandas as pd\n",
    "df=pd.read_csv('https://raw.githubusercontent.com/plotly/datasets/refs/heads/master/diabetes.csv')\n",
    "#take raw link from github\n",
    "print(df,'\\n\\n\\n')\n",
    "df.describe()"
   ]
  },
  {
   "cell_type": "code",
   "execution_count": 13,
   "id": "b7995603",
   "metadata": {},
   "outputs": [
    {
     "data": {
      "text/html": [
       "<div>\n",
       "<style scoped>\n",
       "    .dataframe tbody tr th:only-of-type {\n",
       "        vertical-align: middle;\n",
       "    }\n",
       "\n",
       "    .dataframe tbody tr th {\n",
       "        vertical-align: top;\n",
       "    }\n",
       "\n",
       "    .dataframe thead th {\n",
       "        text-align: right;\n",
       "    }\n",
       "</style>\n",
       "<table border=\"1\" class=\"dataframe\">\n",
       "  <thead>\n",
       "    <tr style=\"text-align: right;\">\n",
       "      <th></th>\n",
       "      <th>Pregnancies</th>\n",
       "      <th>Glucose</th>\n",
       "      <th>BloodPressure</th>\n",
       "      <th>SkinThickness</th>\n",
       "      <th>Insulin</th>\n",
       "      <th>BMI</th>\n",
       "      <th>DiabetesPedigreeFunction</th>\n",
       "      <th>Age</th>\n",
       "      <th>Outcome</th>\n",
       "    </tr>\n",
       "  </thead>\n",
       "  <tbody>\n",
       "    <tr>\n",
       "      <th>count</th>\n",
       "      <td>768.000000</td>\n",
       "      <td>768.000000</td>\n",
       "      <td>768.000000</td>\n",
       "      <td>768.000000</td>\n",
       "      <td>768.000000</td>\n",
       "      <td>768.000000</td>\n",
       "      <td>768.000000</td>\n",
       "      <td>768.000000</td>\n",
       "      <td>768.000000</td>\n",
       "    </tr>\n",
       "    <tr>\n",
       "      <th>mean</th>\n",
       "      <td>3.845052</td>\n",
       "      <td>120.894531</td>\n",
       "      <td>69.105469</td>\n",
       "      <td>20.536458</td>\n",
       "      <td>79.799479</td>\n",
       "      <td>31.992578</td>\n",
       "      <td>0.471876</td>\n",
       "      <td>33.240885</td>\n",
       "      <td>0.348958</td>\n",
       "    </tr>\n",
       "    <tr>\n",
       "      <th>std</th>\n",
       "      <td>3.369578</td>\n",
       "      <td>31.972618</td>\n",
       "      <td>19.355807</td>\n",
       "      <td>15.952218</td>\n",
       "      <td>115.244002</td>\n",
       "      <td>7.884160</td>\n",
       "      <td>0.331329</td>\n",
       "      <td>11.760232</td>\n",
       "      <td>0.476951</td>\n",
       "    </tr>\n",
       "    <tr>\n",
       "      <th>min</th>\n",
       "      <td>0.000000</td>\n",
       "      <td>0.000000</td>\n",
       "      <td>0.000000</td>\n",
       "      <td>0.000000</td>\n",
       "      <td>0.000000</td>\n",
       "      <td>0.000000</td>\n",
       "      <td>0.078000</td>\n",
       "      <td>21.000000</td>\n",
       "      <td>0.000000</td>\n",
       "    </tr>\n",
       "    <tr>\n",
       "      <th>30%</th>\n",
       "      <td>1.000000</td>\n",
       "      <td>102.000000</td>\n",
       "      <td>64.000000</td>\n",
       "      <td>8.200000</td>\n",
       "      <td>0.000000</td>\n",
       "      <td>28.200000</td>\n",
       "      <td>0.259000</td>\n",
       "      <td>25.000000</td>\n",
       "      <td>0.000000</td>\n",
       "    </tr>\n",
       "    <tr>\n",
       "      <th>50%</th>\n",
       "      <td>3.000000</td>\n",
       "      <td>117.000000</td>\n",
       "      <td>72.000000</td>\n",
       "      <td>23.000000</td>\n",
       "      <td>30.500000</td>\n",
       "      <td>32.000000</td>\n",
       "      <td>0.372500</td>\n",
       "      <td>29.000000</td>\n",
       "      <td>0.000000</td>\n",
       "    </tr>\n",
       "    <tr>\n",
       "      <th>70%</th>\n",
       "      <td>5.000000</td>\n",
       "      <td>134.000000</td>\n",
       "      <td>78.000000</td>\n",
       "      <td>31.000000</td>\n",
       "      <td>106.000000</td>\n",
       "      <td>35.490000</td>\n",
       "      <td>0.563700</td>\n",
       "      <td>38.000000</td>\n",
       "      <td>1.000000</td>\n",
       "    </tr>\n",
       "    <tr>\n",
       "      <th>max</th>\n",
       "      <td>17.000000</td>\n",
       "      <td>199.000000</td>\n",
       "      <td>122.000000</td>\n",
       "      <td>99.000000</td>\n",
       "      <td>846.000000</td>\n",
       "      <td>67.100000</td>\n",
       "      <td>2.420000</td>\n",
       "      <td>81.000000</td>\n",
       "      <td>1.000000</td>\n",
       "    </tr>\n",
       "  </tbody>\n",
       "</table>\n",
       "</div>"
      ],
      "text/plain": [
       "       Pregnancies     Glucose  BloodPressure  SkinThickness     Insulin  \\\n",
       "count   768.000000  768.000000     768.000000     768.000000  768.000000   \n",
       "mean      3.845052  120.894531      69.105469      20.536458   79.799479   \n",
       "std       3.369578   31.972618      19.355807      15.952218  115.244002   \n",
       "min       0.000000    0.000000       0.000000       0.000000    0.000000   \n",
       "30%       1.000000  102.000000      64.000000       8.200000    0.000000   \n",
       "50%       3.000000  117.000000      72.000000      23.000000   30.500000   \n",
       "70%       5.000000  134.000000      78.000000      31.000000  106.000000   \n",
       "max      17.000000  199.000000     122.000000      99.000000  846.000000   \n",
       "\n",
       "              BMI  DiabetesPedigreeFunction         Age     Outcome  \n",
       "count  768.000000                768.000000  768.000000  768.000000  \n",
       "mean    31.992578                  0.471876   33.240885    0.348958  \n",
       "std      7.884160                  0.331329   11.760232    0.476951  \n",
       "min      0.000000                  0.078000   21.000000    0.000000  \n",
       "30%     28.200000                  0.259000   25.000000    0.000000  \n",
       "50%     32.000000                  0.372500   29.000000    0.000000  \n",
       "70%     35.490000                  0.563700   38.000000    1.000000  \n",
       "max     67.100000                  2.420000   81.000000    1.000000  "
      ]
     },
     "execution_count": 13,
     "metadata": {},
     "output_type": "execute_result"
    }
   ],
   "source": [
    "#modifying quartiles to 30%.50%,70%\n",
    "\n",
    "df.describe(percentiles=[0.3,0.5,0.7])"
   ]
  },
  {
   "cell_type": "code",
   "execution_count": 15,
   "id": "9b40745b",
   "metadata": {},
   "outputs": [
    {
     "name": "stdout",
     "output_type": "stream",
     "text": [
      "\n",
      "Describing Glucose\n",
      "\n"
     ]
    },
    {
     "data": {
      "text/plain": [
       "count    768.000000\n",
       "mean     120.894531\n",
       "std       31.972618\n",
       "min        0.000000\n",
       "25%       99.000000\n",
       "50%      117.000000\n",
       "75%      140.250000\n",
       "max      199.000000\n",
       "Name: Glucose, dtype: float64"
      ]
     },
     "execution_count": 15,
     "metadata": {},
     "output_type": "execute_result"
    }
   ],
   "source": [
    "# describe() on a specific column gives no. of unique elememts , mode & frequency of mode\n",
    "print(\"\\nDescribing Glucose\\n\")\n",
    "df['Glucose'].describe()"
   ]
  },
  {
   "cell_type": "code",
   "execution_count": 28,
   "id": "3fb5db96",
   "metadata": {},
   "outputs": [
    {
     "name": "stdout",
     "output_type": "stream",
     "text": [
      "<class 'pandas.core.frame.DataFrame'>\n",
      "RangeIndex: 768 entries, 0 to 767\n",
      "Data columns (total 9 columns):\n",
      " #   Column                    Non-Null Count  Dtype  \n",
      "---  ------                    --------------  -----  \n",
      " 0   Pregnancies               768 non-null    int64  \n",
      " 1   Glucose                   768 non-null    int64  \n",
      " 2   BloodPressure             768 non-null    int64  \n",
      " 3   SkinThickness             768 non-null    int64  \n",
      " 4   Insulin                   768 non-null    int64  \n",
      " 5   BMI                       768 non-null    float64\n",
      " 6   DiabetesPedigreeFunction  768 non-null    float64\n",
      " 7   Age                       768 non-null    int64  \n",
      " 8   Outcome                   768 non-null    int64  \n",
      "dtypes: float64(2), int64(7)\n",
      "memory usage: 54.1 KB\n"
     ]
    }
   ],
   "source": [
    "# .info()  show_counts gives non-null count , verbose gives tables\n",
    "\n",
    "df.info(show_counts=True, memory_usage=True , verbose=True)"
   ]
  },
  {
   "cell_type": "code",
   "execution_count": 29,
   "id": "84d7a13a",
   "metadata": {},
   "outputs": [
    {
     "name": "stdout",
     "output_type": "stream",
     "text": [
      "(768, 9)\n",
      "768\n",
      "9\n"
     ]
    }
   ],
   "source": [
    "# .shape() tells no. of rows and columns\n",
    "\n",
    "print(df.shape) # dimension of data\n",
    "print(df.shape[0]) # No. of rows\n",
    "print(df.shape[1]) # No. of columns"
   ]
  },
  {
   "cell_type": "code",
   "execution_count": 33,
   "id": "b66aa63b",
   "metadata": {},
   "outputs": [
    {
     "name": "stdout",
     "output_type": "stream",
     "text": [
      "Index(['Pregnancies', 'Glucose', 'BloodPressure', 'SkinThickness', 'Insulin',\n",
      "       'BMI', 'DiabetesPedigreeFunction', 'Age', 'Outcome'],\n",
      "      dtype='object')\n"
     ]
    },
    {
     "data": {
      "text/plain": [
       "['Pregnancies',\n",
       " 'Glucose',\n",
       " 'BloodPressure',\n",
       " 'SkinThickness',\n",
       " 'Insulin',\n",
       " 'BMI',\n",
       " 'DiabetesPedigreeFunction',\n",
       " 'Age',\n",
       " 'Outcome']"
      ]
     },
     "execution_count": 33,
     "metadata": {},
     "output_type": "execute_result"
    }
   ],
   "source": [
    "# .columns() returns column names in index object form\n",
    "\n",
    "print(df.columns)\n",
    "list(df.columns)"
   ]
  },
  {
   "cell_type": "code",
   "execution_count": 35,
   "id": "72e1b01e",
   "metadata": {},
   "outputs": [
    {
     "name": "stdout",
     "output_type": "stream",
     "text": [
      "All marks:\n",
      "             Wally  Eva  Sam\n",
      "Physics         87   95   88\n",
      "Chemistry       89   99   94\n",
      "Mathematics     93   87   85\n",
      "\n",
      "Eva's marks:\n",
      "Physics        95\n",
      "Chemistry      99\n",
      "Mathematics    87\n",
      "Name: Eva, dtype: int64\n",
      "\n",
      "Wally's marks:\n",
      "Physics        87\n",
      "Chemistry      89\n",
      "Mathematics    93\n",
      "Name: Wally, dtype: int64\n"
     ]
    }
   ],
   "source": [
    "#Accessing DataFrame's Columns\n",
    "\n",
    "import pandas as pd\n",
    "\n",
    "marks = pd.DataFrame({'Wally':[87 , 89 , 93],\n",
    "                      'Eva':  [95 , 99 , 87],\n",
    "                      'Sam':  [88 , 94 , 85]},\n",
    "                      index= ['Physics','Chemistry','Mathematics'])\n",
    "print('All marks:')\n",
    "print(marks)\n",
    "\n",
    "print('\\nEva\\'s marks:')\n",
    "print(marks['Eva'])\n",
    "\n",
    "print('\\nWally\\'s marks:')\n",
    "print(marks.Wally)"
   ]
  },
  {
   "cell_type": "code",
   "execution_count": 39,
   "id": "4958e28c",
   "metadata": {},
   "outputs": [
    {
     "name": "stdout",
     "output_type": "stream",
     "text": [
      "Selecting Physics marks using loc\n",
      "Wally    87\n",
      "Eva      95\n",
      "Sam      88\n",
      "Name: Physics, dtype: int64\n",
      "\n",
      "Selecting Chemistry marks using iloc\n",
      "Wally    89\n",
      "Eva      99\n",
      "Sam      94\n",
      "Name: Chemistry, dtype: int64\n"
     ]
    }
   ],
   "source": [
    "# Selecting Rows via the loc and iloc Attributes\n",
    "print('Selecting Physics marks using loc')\n",
    "print(marks.loc['Physics'])\n",
    "print('\\nSelecting Chemistry marks using iloc')\n",
    "print(marks.iloc[1])"
   ]
  },
  {
   "cell_type": "code",
   "execution_count": 53,
   "id": "c1ea895e",
   "metadata": {},
   "outputs": [
    {
     "name": "stdout",
     "output_type": "stream",
     "text": [
      "             Wally  Eva  Sam\n",
      "Physics         87   95   88\n",
      "Chemistry       89   99   94\n",
      "Mathematics     93   87   85\n",
      "           Wally  Eva  Sam\n",
      "Physics       87   95   88\n",
      "Chemistry     89   99   94\n",
      "             Wally  Eva  Sam\n",
      "Chemistry       89   99   94\n",
      "Mathematics     93   87   85\n",
      "             Wally  Eva  Sam\n",
      "Physics         87   95   88\n",
      "Mathematics     93   87   85\n",
      "             Wally  Eva  Sam\n",
      "Mathematics     93   87   85\n",
      "Physics         87   95   88\n"
     ]
    }
   ],
   "source": [
    "#Selecting Rows via Slices and Lists \n",
    "#with the loc and iloc Attributes\n",
    "\n",
    "print(marks)\n",
    "print(marks['Physics':'Chemistry'])\n",
    "print(marks[1:])\n",
    "# ll=[0,2]\n",
    "#Only those indexes passed within list will be displayed\n",
    "print(marks.iloc[[0,2]])\n",
    "print(marks.loc[['Mathematics','Physics']])"
   ]
  },
  {
   "cell_type": "code",
   "execution_count": 54,
   "id": "16295f74",
   "metadata": {},
   "outputs": [
    {
     "name": "stdout",
     "output_type": "stream",
     "text": [
      "All marks:\n",
      "       Wally  Eva  Sam  Katie  Bob\n",
      "Test1     87   95   88     87   83\n",
      "Test2     89   99   94     92   93\n",
      "Test3     93   87   85     95   86\n",
      "Test4     87   88   89     84   83\n",
      "Test5     92   84   95     85   87\n"
     ]
    }
   ],
   "source": [
    "import pandas as pd\n",
    "marks=pd.DataFrame({'Wally':  [87 , 89 , 93, 87, 92],\n",
    "                      'Eva':  [95 , 99 , 87, 88, 84],\n",
    "                      'Sam':  [88 , 94 , 85, 89, 95],\n",
    "                      'Katie':[87 , 92 , 95, 84, 85],\n",
    "                      'Bob':  [83 , 93 , 86, 83, 87]},\n",
    "                      index= ['Test1','Test2','Test3','Test4','Test5'])\n",
    "print('All marks:')\n",
    "print(marks)"
   ]
  },
  {
   "cell_type": "code",
   "execution_count": null,
   "id": "9f3b1830",
   "metadata": {},
   "outputs": [],
   "source": []
  }
 ],
 "metadata": {
  "kernelspec": {
   "display_name": "Python 3 (ipykernel)",
   "language": "python",
   "name": "python3"
  },
  "language_info": {
   "codemirror_mode": {
    "name": "ipython",
    "version": 3
   },
   "file_extension": ".py",
   "mimetype": "text/x-python",
   "name": "python",
   "nbconvert_exporter": "python",
   "pygments_lexer": "ipython3",
   "version": "3.9.7"
  }
 },
 "nbformat": 4,
 "nbformat_minor": 5
}
