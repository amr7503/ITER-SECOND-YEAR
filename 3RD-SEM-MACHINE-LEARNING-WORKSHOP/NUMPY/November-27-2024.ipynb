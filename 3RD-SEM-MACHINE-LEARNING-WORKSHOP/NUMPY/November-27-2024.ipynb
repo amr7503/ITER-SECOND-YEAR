{
 "cells": [
  {
   "cell_type": "code",
   "execution_count": 3,
   "id": "0ce2c77d",
   "metadata": {},
   "outputs": [
    {
     "name": "stdout",
     "output_type": "stream",
     "text": [
      "[23, 15, 'day', 5.5]\n",
      "['23' '15' 'day' '5.5']\n"
     ]
    }
   ],
   "source": [
    "import numpy as np\n",
    "l=[23,15,'day',5.5]\n",
    "arr=np.array(l)\n",
    "print(l)\n",
    "print(arr)\n",
    "\n",
    "#Array contains homogeneous data types"
   ]
  },
  {
   "cell_type": "code",
   "execution_count": 4,
   "id": "b3eee5f9",
   "metadata": {},
   "outputs": [
    {
     "name": "stdout",
     "output_type": "stream",
     "text": [
      "[1, 4, 9, 16, 25]\n"
     ]
    }
   ],
   "source": [
    "l=[x**2 for x in range(1,6)]\n",
    "print(l)\n",
    "\n",
    "#List comrehension"
   ]
  },
  {
   "cell_type": "code",
   "execution_count": 7,
   "id": "2325880e",
   "metadata": {},
   "outputs": [
    {
     "name": "stdout",
     "output_type": "stream",
     "text": [
      "[[ 0  3  6  9 12]\n",
      " [ 2  5  8 11 14]\n",
      " [ 4  7 10 13 16]\n",
      " [ 6  9 12 15 18]\n",
      " [ 8 11 14 17 20]\n",
      " [10 13 16 19 22]\n",
      " [12 15 18 21 24]\n",
      " [14 17 20 23 26]\n",
      " [16 19 22 25 28]\n",
      " [18 21 24 27 30]]\n"
     ]
    }
   ],
   "source": [
    "l2=np.array([[x*2+y*3 for y in range(5)] for x in range(10) ])\n",
    "print(l2)\n",
    "\n",
    "#List comprehension for 2D array"
   ]
  },
  {
   "cell_type": "code",
   "execution_count": 14,
   "id": "d0d24771",
   "metadata": {},
   "outputs": [
    {
     "name": "stdout",
     "output_type": "stream",
     "text": [
      "a=\n",
      " [[1 2]\n",
      " [3 4]] \n",
      "b=\n",
      " [[4 3]\n",
      " [2 1]]\n",
      "Adding 1 to every element of a:\n",
      " [[2 3]\n",
      " [4 5]]\n",
      "Subtracting 2 from every element of b:\n",
      " [[ 2  1]\n",
      " [ 0 -1]]\n",
      "Sum of array elements of a:  10\n",
      "Array sum (a+b):\n",
      " [[5 5]\n",
      " [5 5]]\n"
     ]
    }
   ],
   "source": [
    "#########################\n",
    "# Basic Array Opeartions #\n",
    "\n",
    "a=np.array([[1,2],[3,4]])\n",
    "b=np.array([[4,3],[2,1]])\n",
    "print('a=\\n',a,'\\nb=\\n',b)\n",
    "\n",
    "#Scalar addition subtraction\n",
    "print(\"Adding 1 to every element of a:\\n\",a+1)\n",
    "print(\"Subtracting 2 from every element of b:\\n\",b-2)\n",
    "\n",
    "#Sum of array elements performing linear operations\n",
    "\n",
    "print('Sum of array elements of a: ',a.sum())\n",
    "\n",
    "#Adding two arrays performing binary operations\n",
    "print(numbers,'\\n')\n",
    "print(\"Array sum (a+b):\\n\",a+b)"
   ]
  },
  {
   "cell_type": "code",
   "execution_count": 44,
   "id": "2054582c",
   "metadata": {},
   "outputs": [
    {
     "name": "stdout",
     "output_type": "stream",
     "text": [
      "[0 1 2 3 4]\n",
      "[5 6 7 8 9]\n",
      "[1 4 7]\n",
      "[10  8  6  4  2]\n"
     ]
    }
   ],
   "source": [
    "#Create Integer array using np.arange()\n",
    "\n",
    "import numpy as np\n",
    "print(np.arange(5))\n",
    "print(np.arange(5,10))\n",
    "print(np.arange(1,10,3))\n",
    "print(np.arange(10,1,-2))"
   ]
  },
  {
   "cell_type": "code",
   "execution_count": 23,
   "id": "91b25dbc",
   "metadata": {},
   "outputs": [
    {
     "name": "stdout",
     "output_type": "stream",
     "text": [
      "[1.1   1.145 1.19  1.235 1.28  1.325 1.37  1.415 1.46  1.505 1.55  1.595\n",
      " 1.64  1.685 1.73  1.775 1.82  1.865 1.91  1.955 2.   ]\n"
     ]
    }
   ],
   "source": [
    "import numpy as np\n",
    "print(np.linspace(1.1,2.0,21))\n",
    "\n",
    "#1/20=0.05 .. To create array of 21 elemements between 1 and 21 which are equally spaced"
   ]
  },
  {
   "cell_type": "code",
   "execution_count": 25,
   "id": "1532c574",
   "metadata": {},
   "outputs": [
    {
     "name": "stdout",
     "output_type": "stream",
     "text": [
      "[0. 0. 0. 0. 0.]\n",
      "[1. 1. 1. 1. 1. 1. 1.]\n",
      "[[13 13 13 13 13]\n",
      " [13 13 13 13 13]\n",
      " [13 13 13 13 13]]\n"
     ]
    }
   ],
   "source": [
    "#Filling arrays with specific values using zeros,ones & full functions\n",
    "import numpy as np\n",
    "print(np.zeros(5))\n",
    "print(np.ones(7))\n",
    "print(np.full((3,5),13)) # 3X5 matrix with values=13"
   ]
  },
  {
   "cell_type": "code",
   "execution_count": 38,
   "id": "f573480f",
   "metadata": {},
   "outputs": [
    {
     "name": "stdout",
     "output_type": "stream",
     "text": [
      "1D Floating-Point Array:\n",
      " [0.32494957 0.77746559 0.39082816 0.30802661 0.32458787]\n",
      "\n",
      "2D Floating-Point Array:\n",
      " [[0.45718024 0.91813112 0.99093895]\n",
      " [0.67859112 0.87841231 0.98150688]\n",
      " [0.99005928 0.49626262 0.75102164]\n",
      " [0.58255824 0.42515324 0.59165191]\n",
      " [0.71537428 0.88523631 0.27015642]]\n",
      "\n",
      "Scalar :\n",
      " 5\n",
      "\n",
      "1D  Array:\n",
      " [6 6 3 0 5]\n",
      "\n",
      "2D  Array:\n",
      " [[9 5 4 7 0]\n",
      " [1 3 9 4 0]\n",
      " [3 2 9 0 7]]\n"
     ]
    }
   ],
   "source": [
    "#Create arrays of Random numbers\n",
    "\n",
    "import numpy as np\n",
    "\n",
    "arr1= np.random.rand(5)\n",
    "print(\"1D Floating-Point Array:\\n\",arr1)\n",
    "arr2= np.random.rand(5,3)\n",
    "print(\"\\n2D Floating-Point Array:\\n\",arr2)\n",
    "\n",
    "arr3= np.random.randint(10)\n",
    "print(\"\\nScalar :\\n\",arr3)\n",
    "arr4= np.random.randint(10,size=5)\n",
    "print(\"\\n1D  Array:\\n\",arr4)\n",
    "arr5= np.random.randint(10,size=(3,5))\n",
    "print(\"\\n2D  Array:\\n\",arr5)"
   ]
  },
  {
   "cell_type": "code",
   "execution_count": 42,
   "id": "907b3840",
   "metadata": {},
   "outputs": [
    {
     "name": "stdout",
     "output_type": "stream",
     "text": [
      "[[ 1  2  3  4  5]\n",
      " [ 6  7  8  9 10]\n",
      " [11 12 13 14 15]] \n",
      "\n",
      "[[0. 0. 0.]\n",
      " [0. 0. 0.]\n",
      " [0. 0. 0.]\n",
      " [0. 0. 0.]\n",
      " [0. 0. 0.]] \n",
      "\n",
      "[[1. 1. 1. 1. 1.]\n",
      " [1. 1. 1. 1. 1.]\n",
      " [1. 1. 1. 1. 1.]]\n"
     ]
    }
   ],
   "source": [
    "#Reshaping an array\n",
    "\n",
    "import numpy as np\n",
    "\n",
    "print(np.arange(1,16).reshape(3,5),'\\n')\n",
    "print(np.zeros(15).reshape(5,3),'\\n')\n",
    "print(np.ones(15).reshape(3,5))"
   ]
  },
  {
   "cell_type": "code",
   "execution_count": 45,
   "id": "64ade51e",
   "metadata": {},
   "outputs": [
    {
     "name": "stdout",
     "output_type": "stream",
     "text": [
      "[1 2 3 4 5] \n",
      "\n",
      "[ 2  4  6  8 10] \n",
      "\n",
      "[ 6.5 13.  19.5 26.  32.5] \n",
      "\n",
      "[ 1  4  9 16 25] \n",
      "\n"
     ]
    }
   ],
   "source": [
    "#Array Operators\n",
    "\n",
    "import numpy as np\n",
    "\n",
    "numbers = np.arange(1,6)\n",
    "print(numbers,'\\n')\n",
    "print(numbers*2,'\\n')\n",
    "print(numbers*6.5,'\\n')\n",
    "print(numbers**2,'\\n')"
   ]
  },
  {
   "cell_type": "code",
   "execution_count": null,
   "id": "38edf6d1",
   "metadata": {},
   "outputs": [],
   "source": [
    "#Arithmetic Operations between two arrays"
   ]
  },
  {
   "cell_type": "code",
   "execution_count": 46,
   "id": "9fc6ac63",
   "metadata": {},
   "outputs": [
    {
     "name": "stdout",
     "output_type": "stream",
     "text": [
      "[10 14 13 16 15]\n",
      "[11 16 14 12 17]\n",
      "[False False False  True  True]\n",
      "[False False False  True False]\n",
      "[ True  True  True False  True]\n"
     ]
    }
   ],
   "source": [
    "#Comparing two Arrays\n",
    "#It is performed elementwise\n",
    "\n",
    "import numpy as np\n",
    "\n",
    "a1=np.array([10,14,13,16,15])\n",
    "a2=np.array([11,16,14,12,17])\n",
    "\n",
    "print(a1,a2,sep='\\n')\n",
    "\n",
    "print(a1>=15)\n",
    "print(a2==12)\n",
    "print(a1<a2)\n"
   ]
  },
  {
   "cell_type": "code",
   "execution_count": 52,
   "id": "a23fec57",
   "metadata": {},
   "outputs": [
    {
     "name": "stdout",
     "output_type": "stream",
     "text": [
      "Sum =  1054\n",
      "Max =  100\n",
      "Min =  70\n",
      "Average =  87.83333333333333\n",
      "Std Dev =  8.792357792739987\n",
      "Variance =  77.30555555555556\n"
     ]
    }
   ],
   "source": [
    "#Numpy Calculation methods\n",
    "# sum(),max(),min(),mean(),std(),var()\n",
    "\n",
    "import numpy as np\n",
    "grades=np.array([[87,96,70],\n",
    "                 [100,87,90],\n",
    "                 [94,77,90],\n",
    "                 [100,81,82]])\n",
    "\n",
    "print('Sum = ',grades.sum())\n",
    "print('Max = ',grades.max())\n",
    "print('Min = ',grades.min())\n",
    "print('Average = ',grades.mean())\n",
    "print('Std Dev = ',grades.std())\n",
    "print('Variance = ',grades.var())"
   ]
  },
  {
   "cell_type": "code",
   "execution_count": 50,
   "id": "9f3186be",
   "metadata": {},
   "outputs": [
    {
     "name": "stdout",
     "output_type": "stream",
     "text": [
      "Max of cols =  [100  96  90]\n",
      "Max of Rows =  [ 96 100  94 100]\n"
     ]
    }
   ],
   "source": [
    "#Calculations by Row or Column\n",
    "'''\n",
    "axis=0 performs calculation on all row values within each column\n",
    "axis=1 performs calculation on all clumn values within each row\n",
    "'''\n",
    "\n",
    "print('Max of cols = ',grades.max(axis=0))\n",
    "print('Max of Rows = ',grades.max(axis=1))"
   ]
  },
  {
   "cell_type": "code",
   "execution_count": null,
   "id": "1341a292",
   "metadata": {},
   "outputs": [],
   "source": []
  }
 ],
 "metadata": {
  "kernelspec": {
   "display_name": "Python 3 (ipykernel)",
   "language": "python",
   "name": "python3"
  },
  "language_info": {
   "codemirror_mode": {
    "name": "ipython",
    "version": 3
   },
   "file_extension": ".py",
   "mimetype": "text/x-python",
   "name": "python",
   "nbconvert_exporter": "python",
   "pygments_lexer": "ipython3",
   "version": "3.9.7"
  }
 },
 "nbformat": 4,
 "nbformat_minor": 5
}
