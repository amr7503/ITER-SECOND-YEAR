{
 "cells": [
  {
   "cell_type": "code",
   "execution_count": 5,
   "id": "b7b9bd47",
   "metadata": {},
   "outputs": [
    {
     "data": {
      "text/plain": [
       "numpy.ndarray"
      ]
     },
     "execution_count": 5,
     "metadata": {},
     "output_type": "execute_result"
    }
   ],
   "source": [
    "import numpy\n",
    "arr01 = numpy.array([1,2,3,4,5])\n",
    "type(arr01)"
   ]
  },
  {
   "cell_type": "code",
   "execution_count": 6,
   "id": "200d5e8d",
   "metadata": {},
   "outputs": [
    {
     "name": "stdout",
     "output_type": "stream",
     "text": [
      "<class 'numpy.ndarray'>\n",
      "[1 2 3 4 5]\n"
     ]
    }
   ],
   "source": [
    "import numpy as np\n",
    "arr02 = np.array([1,2,3,4,5])\n",
    "print(type(arr02))\n",
    "print(arr02)"
   ]
  },
  {
   "cell_type": "code",
   "execution_count": 7,
   "id": "5df58a71",
   "metadata": {},
   "outputs": [
    {
     "name": "stdout",
     "output_type": "stream",
     "text": [
      "[[ 1  2  3  4  5]\n",
      " [ 6  7  8  9 10]]\n"
     ]
    }
   ],
   "source": [
    "arr03=np.array([[1,2,3,4,5],[6,7,8,9,10]])\n",
    "print(arr03)"
   ]
  },
  {
   "cell_type": "code",
   "execution_count": 8,
   "id": "1236177a",
   "metadata": {},
   "outputs": [
    {
     "name": "stdout",
     "output_type": "stream",
     "text": [
      "[2, 4, 6, 8, 10, 12, 14, 16, 18, 20]\n",
      "[ 2  4  6  8 10 12 14 16 18 20]\n"
     ]
    }
   ],
   "source": [
    "L04 = [x for x in range(2,21,2)] #List Comprehension\n",
    "print(L04)\n",
    "\n",
    "arr04=np.array(L04)\n",
    "print(arr04)"
   ]
  },
  {
   "cell_type": "code",
   "execution_count": 9,
   "id": "4d30af31",
   "metadata": {},
   "outputs": [
    {
     "name": "stdout",
     "output_type": "stream",
     "text": [
      "[[ 7 11 15 19 23 27 31 35 39 43]\n",
      " [10 14 18 22 26 30 34 38 42 46]\n",
      " [13 17 21 25 29 33 37 41 45 49]\n",
      " [16 20 24 28 32 36 40 44 48 52]\n",
      " [19 23 27 31 35 39 43 47 51 55]\n",
      " [22 26 30 34 38 42 46 50 54 58]\n",
      " [25 29 33 37 41 45 49 53 57 61]]\n",
      "Rows=  7 Cols=  10\n"
     ]
    }
   ],
   "source": [
    "L05 = [[2*x+3*y for x in range(2,21,2)] \n",
    "       for y in range(1,8)]\n",
    "\n",
    "arr05=np.array(L05)\n",
    "print(arr05)\n",
    "\n",
    "print('Rows= ',np.size(arr05,axis=0),'Cols= ',np.size(arr05,axis=1))"
   ]
  },
  {
   "cell_type": "code",
   "execution_count": 10,
   "id": "c179fcc3",
   "metadata": {},
   "outputs": [
    {
     "name": "stdout",
     "output_type": "stream",
     "text": [
      "42\n",
      "33\n",
      "[22 25 28]\n",
      "[34 38 42 46]\n",
      "[[25 29 33 37]\n",
      " [28 32 36 40]\n",
      " [31 35 39 43]]\n",
      "[[19 23 27 31]\n",
      " [22 26 30 34]\n",
      " [25 29 33 37]\n",
      " [28 32 36 40]\n",
      " [31 35 39 43]\n",
      " [34 38 42 46]\n",
      " [37 41 45 49]]\n",
      "[[13 17 21 25 29 33 37 41 45 49]\n",
      " [16 20 24 28 32 36 40 44 48 52]]\n",
      "[43 40]\n"
     ]
    }
   ],
   "source": [
    "print(arr05[5,5])\n",
    "print(arr05[6,2])\n",
    "print(arr05[1:4,3])\n",
    "print(arr05[5,3:7])\n",
    "print(arr05[2:5,3:7])\n",
    "print(arr05[:,3:7])\n",
    "print(arr05[2:4, :])\n",
    "print(arr05[4:2:-1,6])"
   ]
  },
  {
   "cell_type": "code",
   "execution_count": 11,
   "id": "318a29d8",
   "metadata": {},
   "outputs": [
    {
     "name": "stdout",
     "output_type": "stream",
     "text": [
      "[[ 7 11 15 19 23 27 31 35 39 43]\n",
      " [10 14 18 22 26 30 34 38 42 46]\n",
      " [13 17 21 25 29 33 37 41 45 49]\n",
      " [16 20 24 28 32 36 40 44 48 52]\n",
      " [19 23 27 31 35 39 43 47 51 55]\n",
      " [22 26 30 34 38 42 46 50 54 58]\n",
      " [25 29 33 37 41 45 49 53 57 61]]\n"
     ]
    }
   ],
   "source": [
    "print(arr05)"
   ]
  },
  {
   "cell_type": "code",
   "execution_count": 12,
   "id": "211a0855",
   "metadata": {},
   "outputs": [
    {
     "name": "stdout",
     "output_type": "stream",
     "text": [
      "[18 32 42 57]\n"
     ]
    }
   ],
   "source": [
    "print(arr05[[1,3,5,6],\n",
    "         [2,4,5,8]]) #arr ->[row,col]:  [1,2] , [3,4] , [5,5] , [6,8]"
   ]
  },
  {
   "cell_type": "code",
   "execution_count": 13,
   "id": "a5f83276",
   "metadata": {},
   "outputs": [
    {
     "name": "stdout",
     "output_type": "stream",
     "text": [
      "[18 32 42 57]\n"
     ]
    }
   ],
   "source": [
    "R,C=[1,3,5,6],[2,4,5,8]\n",
    "print(arr05[R,C])"
   ]
  },
  {
   "cell_type": "code",
   "execution_count": 14,
   "id": "35023bae",
   "metadata": {},
   "outputs": [
    {
     "name": "stdout",
     "output_type": "stream",
     "text": [
      "[[1 2 3 4]\n",
      " [5 6 7 8]]\n",
      "[[ 6  7  8  9]\n",
      " [10 11 12 13]]\n",
      "[[ 7  8  9 10]\n",
      " [11 12 13 14]]\n"
     ]
    }
   ],
   "source": [
    "arr05= np.array([[1,2,3,4],\n",
    "        [5,6,7,8]])\n",
    "print(arr05)\n",
    "print(np.add(arr05,5))\n",
    "print(arr05+6) #wrapper add"
   ]
  },
  {
   "cell_type": "code",
   "execution_count": 15,
   "id": "d4e62a55",
   "metadata": {},
   "outputs": [
    {
     "name": "stdout",
     "output_type": "stream",
     "text": [
      "[[11 11 11 11]\n",
      " [11 11 11 11]]\n",
      "[[-9 -7 -5 -3]\n",
      " [-1  1  3  5]]\n",
      "[[10 18 24 28]\n",
      " [30 30 28 24]]\n",
      "[[0.1        0.22222222 0.375      0.57142857]\n",
      " [0.83333333 1.2        1.75       2.66666667]]\n"
     ]
    }
   ],
   "source": [
    "arr1=np.array([[1,2,3,4],\n",
    "              [5,6,7,8]])\n",
    "arr2=np.array([[10,9,8,7],\n",
    "              [6,5,4,3]])\n",
    "print(arr1+arr2)\n",
    "print(arr1-arr2)\n",
    "print(arr1*arr2) #This is not matrix multiplication\n",
    "print(arr1/arr2)"
   ]
  },
  {
   "cell_type": "code",
   "execution_count": 16,
   "id": "718ef5a9",
   "metadata": {},
   "outputs": [
    {
     "name": "stdout",
     "output_type": "stream",
     "text": [
      "<class 'range'>\n",
      "<class 'numpy.ndarray'>\n",
      "[0 1 2 3 4]\n",
      "[ 1  2  3  4  5  6  7  8  9 10 11 12 13 14]\n",
      "[15 14 13 12 11 10  9  8  7  6  5  4  3  2]\n"
     ]
    }
   ],
   "source": [
    "# Creating Arrays\n",
    "print(type(range(5)))\n",
    "print(type(np.arange(5)))\n",
    "\n",
    "print(np.arange(5))\n",
    "print(np.arange(1,15))\n",
    "print(np.arange(15,1,-1))\n"
   ]
  },
  {
   "cell_type": "code",
   "execution_count": 17,
   "id": "5c967358",
   "metadata": {},
   "outputs": [
    {
     "name": "stdout",
     "output_type": "stream",
     "text": [
      "10\n",
      "[1.         1.11111111 1.22222222 1.33333333 1.44444444 1.55555556\n",
      " 1.66666667 1.77777778 1.88888889 2.        ]\n",
      "[10.    7.75  5.5   3.25  1.  ]\n"
     ]
    }
   ],
   "source": [
    "arr06=np.linspace(1,2,10) #(a,b,c) by default c=50 points in between a and b\n",
    "print(np.size(arr06)) #How many points\n",
    "print(arr06)\n",
    "print(np.linspace(10,1,5)) # reverse"
   ]
  },
  {
   "cell_type": "code",
   "execution_count": 18,
   "id": "0611f209",
   "metadata": {},
   "outputs": [
    {
     "name": "stdout",
     "output_type": "stream",
     "text": [
      "101\n",
      "[100.          97.7237221   95.4992586   93.32543008  91.20108394\n",
      "  89.12509381  87.096359    85.11380382  83.17637711  81.28305162\n",
      "  79.43282347  77.62471166  75.8577575   74.13102413  72.44359601\n",
      "  70.79457844  69.18309709  67.60829754  66.0693448   64.5654229\n",
      "  63.09573445  61.65950019  60.25595861  58.88436554  57.54399373\n",
      "  56.23413252  54.95408739  53.70317964  52.48074602  51.2861384\n",
      "  50.11872336  48.97788194  47.86300923  46.77351413  45.70881896\n",
      "  44.66835922  43.65158322  42.65795188  41.68693835  40.73802778\n",
      "  39.81071706  38.9045145   38.01893963  37.15352291  36.30780548\n",
      "  35.48133892  34.67368505  33.88441561  33.11311215  32.35936569\n",
      "  31.6227766   30.90295433  30.1995172   29.51209227  28.84031503\n",
      "  28.18382931  27.54228703  26.91534804  26.30267992  25.70395783\n",
      "  25.11886432  24.54708916  23.98832919  23.44228815  22.90867653\n",
      "  22.38721139  21.87761624  21.3796209   20.89296131  20.41737945\n",
      "  19.95262315  19.498446    19.05460718  18.62087137  18.19700859\n",
      "  17.7827941   17.37800829  16.98243652  16.59586907  16.21810097\n",
      "  15.84893192  15.48816619  15.13561248  14.79108388  14.45439771\n",
      "  14.12537545  13.80384265  13.48962883  13.18256739  12.88249552\n",
      "  12.58925412  12.30268771  12.02264435  11.74897555  11.48153621\n",
      "  11.22018454  10.96478196  10.71519305  10.47128548  10.23292992\n",
      "  10.        ]\n"
     ]
    }
   ],
   "source": [
    "arr06=np.logspace(2,1,101) \n",
    "print(np.size(arr06)) \n",
    "print(arr06)"
   ]
  },
  {
   "cell_type": "code",
   "execution_count": 19,
   "id": "1f95490f",
   "metadata": {},
   "outputs": [
    {
     "name": "stdout",
     "output_type": "stream",
     "text": [
      "0.569908445440577\n",
      "[[0.04059748 0.80700854 0.45405917]\n",
      " [0.18241271 0.30299968 0.05707459]]\n"
     ]
    }
   ],
   "source": [
    "print(np.random.rand())\n",
    "print(np.random.rand(2,3)) #Random list with 2 row and 3 column"
   ]
  },
  {
   "cell_type": "code",
   "execution_count": 20,
   "id": "b2901150",
   "metadata": {},
   "outputs": [
    {
     "name": "stdout",
     "output_type": "stream",
     "text": [
      "0.7868667239559733\n",
      "[[0.66733422 0.6502206  0.16248874]\n",
      " [1.43556913 1.05115923 1.5390144 ]]\n"
     ]
    }
   ],
   "source": [
    "#Gaussian Random number\n",
    "print(np.random.randn())\n",
    "print(np.random.randn(2,3))"
   ]
  },
  {
   "cell_type": "code",
   "execution_count": 21,
   "id": "32a096a1",
   "metadata": {},
   "outputs": [
    {
     "name": "stdout",
     "output_type": "stream",
     "text": [
      "6.023e+23\n"
     ]
    }
   ],
   "source": [
    "AN = 6.023e23\n",
    "print(AN)"
   ]
  },
  {
   "cell_type": "code",
   "execution_count": 22,
   "id": "ffdaedb8",
   "metadata": {},
   "outputs": [
    {
     "name": "stdout",
     "output_type": "stream",
     "text": [
      "[[False False False False]\n",
      " [False  True  True  True]]\n"
     ]
    }
   ],
   "source": [
    "arr05=np.array([[1,2,3,4],\n",
    "              [5,6,7,8]])\n",
    "arr06=np.array([[10,9,8,7],\n",
    "              [6,5,4,3]])\n",
    "print(arr05>5)"
   ]
  },
  {
   "cell_type": "code",
   "execution_count": 23,
   "id": "49c97a2b",
   "metadata": {},
   "outputs": [
    {
     "name": "stdout",
     "output_type": "stream",
     "text": [
      "Sum =  70\n",
      "Max =  10\n",
      "Min =  1\n",
      "Average =  5.833333333333333\n",
      "Std. Dev =  2.733536577809454\n",
      "Variance =  7.472222222222222\n",
      "Rows Max =  [ 4  8 10]\n",
      "Cols Max =  [10  9  8  8]\n"
     ]
    }
   ],
   "source": [
    "arr07=np.array([[1,2,3,4],\n",
    "              [5,6,7,8],\n",
    "               [10,9,8,7]])\n",
    "\n",
    "print(\"Sum = \",arr07.sum())\n",
    "\n",
    "print(\"Max = \",arr07.max())\n",
    "print(\"Min = \",arr07.min())\n",
    "\n",
    "print(\"Average = \",arr07.mean())\n",
    "print(\"Std. Dev = \",arr07.std())\n",
    "print(\"Variance = \",arr07.var())\n",
    "print(\"Rows Max = \",arr07.max(axis=1))\n",
    "print(\"Cols Max = \",arr07.max(axis=0))"
   ]
  },
  {
   "cell_type": "code",
   "execution_count": 24,
   "id": "739856a6",
   "metadata": {
    "scrolled": true
   },
   "outputs": [
    {
     "name": "stdout",
     "output_type": "stream",
     "text": [
      "[  0  30  45  60  90 120 135 150 180]\n",
      "[0.         0.52359878 0.78539816 1.04719755 1.57079633 2.0943951\n",
      " 2.35619449 2.61799388 3.14159265]\n",
      "[0.     0.5    0.7071 0.866  1.     0.866  0.7071 0.5    0.    ]\n",
      "[ 1.      0.866   0.7071  0.5     0.     -0.5    -0.7071 -0.866  -1.    ]\n",
      "[ 0.00000000e+00  5.77400000e-01  1.00000000e+00  1.73210000e+00\n",
      "  1.63312394e+16 -1.73210000e+00 -1.00000000e+00 -5.77400000e-01\n",
      " -0.00000000e+00]\n"
     ]
    }
   ],
   "source": [
    "angleDeg = np.array([0,30,45,60,90,120,135,150,180])\n",
    "angleRad = np.deg2rad(angleDeg)    #Convert degrees to Radian\n",
    "\n",
    "print(angleDeg)\n",
    "print(angleRad)\n",
    "\n",
    "print(np.round(np.sin(angleRad),4))\n",
    "print(np.round(np.cos(angleRad),4))\n",
    "print(np.round(np.tan(angleRad),4))\n",
    "\n",
    "#print(np.round(np.arcsin(angleRad),4))"
   ]
  },
  {
   "cell_type": "code",
   "execution_count": null,
   "id": "fe3b88e6",
   "metadata": {},
   "outputs": [],
   "source": []
  }
 ],
 "metadata": {
  "kernelspec": {
   "display_name": "Python 3",
   "language": "python",
   "name": "python3"
  },
  "language_info": {
   "codemirror_mode": {
    "name": "ipython",
    "version": 3
   },
   "file_extension": ".py",
   "mimetype": "text/x-python",
   "name": "python",
   "nbconvert_exporter": "python",
   "pygments_lexer": "ipython3",
   "version": "3.12.6"
  }
 },
 "nbformat": 4,
 "nbformat_minor": 5
}
