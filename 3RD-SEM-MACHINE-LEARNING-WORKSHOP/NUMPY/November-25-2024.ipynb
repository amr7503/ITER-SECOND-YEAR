{
 "cells": [
  {
   "cell_type": "code",
   "execution_count": 1,
   "id": "d5b5c4fa",
   "metadata": {},
   "outputs": [
    {
     "name": "stdout",
     "output_type": "stream",
     "text": [
      "[1 3 5 7 9]\n",
      "<class 'numpy.ndarray'>\n"
     ]
    }
   ],
   "source": [
    "import numpy\n",
    "\n",
    "arr=numpy.array([1,3,5,7,9])    # 1D Array\n",
    "print(arr)\n",
    "print(type(arr))     #ndarray means n dimensional array"
   ]
  },
  {
   "cell_type": "code",
   "execution_count": 4,
   "id": "0f7d9051",
   "metadata": {},
   "outputs": [
    {
     "name": "stdout",
     "output_type": "stream",
     "text": [
      "[[1 2 3]\n",
      " [4 5 6]]\n"
     ]
    }
   ],
   "source": [
    "import numpy as np\n",
    "\n",
    "#create 2D array\n",
    "arr2D = np.array([[1,2,3],[4,5,6,]]) #Size should be same for nested lists \n",
    "print(arr2D)"
   ]
  },
  {
   "cell_type": "code",
   "execution_count": 5,
   "id": "b2faa337",
   "metadata": {},
   "outputs": [
    {
     "name": "stdout",
     "output_type": "stream",
     "text": [
      "hello\n"
     ]
    }
   ],
   "source": [
    "print(\"hello\")"
   ]
  },
  {
   "cell_type": "code",
   "execution_count": 7,
   "id": "3020061c",
   "metadata": {},
   "outputs": [
    {
     "name": "stdout",
     "output_type": "stream",
     "text": [
      "[ 2  4  6  8 10 12 14 16 18 20]\n"
     ]
    }
   ],
   "source": [
    "#create 1D array from list comprehension\n",
    "import numpy as np\n",
    "\n",
    "arr=np.array([x for x in range(2,21,2)]) #To create an array of even numbers from 2 to 20 using list comprehension\n",
    "print(arr)"
   ]
  },
  {
   "cell_type": "code",
   "execution_count": 11,
   "id": "800401d6",
   "metadata": {},
   "outputs": [
    {
     "name": "stdout",
     "output_type": "stream",
     "text": [
      "[[ 0  2  4  6  8]\n",
      " [ 3  5  7  9 11]\n",
      " [ 6  8 10 12 14]\n",
      " [ 9 11 13 15 17]\n",
      " [12 14 16 18 20]\n",
      " [15 17 19 21 23]\n",
      " [18 20 22 24 26]\n",
      " [21 23 25 27 29]\n",
      " [24 26 28 30 32]\n",
      " [27 29 31 33 35]]\n"
     ]
    }
   ],
   "source": [
    "import numpy as np\n",
    "\n",
    "arr=np.array([[3*x+2*y for y in range(5)] for x in range(10)]) \n",
    "\n",
    "#create 2D array from list comprehension\n",
    "#first x will be 0 to 9 then for eaxh x : y will be frm 0 to 4 then applied on 3*x+2*y .. \n",
    "#for each x a row list is created\n",
    "\n",
    "print(arr)"
   ]
  },
  {
   "cell_type": "code",
   "execution_count": 15,
   "id": "f3901511",
   "metadata": {},
   "outputs": [
    {
     "name": "stdout",
     "output_type": "stream",
     "text": [
      "Original array\n",
      " [[ 1  2  3  7  9 55]\n",
      " [ 4  5  6 77 23 34]\n",
      " [81  2 23 75 92 17]\n",
      " [34 54 67 79 83 44]]\n",
      "\n",
      "First two rows\n",
      "  [[ 1  2  3  7  9 55]\n",
      " [ 4  5  6 77 23 34]]\n",
      "\n",
      "Accessing an element of row 2 column 4 :  77\n",
      "[[ 1  3  9]\n",
      " [ 4  6 23]]\n"
     ]
    }
   ],
   "source": [
    "import numpy as np\n",
    "\n",
    "#extract first two row\n",
    "\n",
    "arr2D = np.array([[1,2,3,7,9,55],[4,5,6,77,23,34],[81,2,23,75,92,17],[34,54,67,79,83,44]])\n",
    "print(\"Original array\\n\",arr2D)\n",
    "print(\"\\nFirst two rows\\n \",arr2D[:2])\n",
    "print(\"\\nAccessing an element of row 2 column 4 : \",arr2D[1][3])\n",
    "\n",
    "#Printing a range of Array with the use of slicing method\n",
    "sliced_arr=arr2D[:2,::2]\n",
    "print(sliced_arr)"
   ]
  },
  {
   "cell_type": "code",
   "execution_count": null,
   "id": "ac45e56f",
   "metadata": {},
   "outputs": [],
   "source": []
  }
 ],
 "metadata": {
  "kernelspec": {
   "display_name": "Python 3 (ipykernel)",
   "language": "python",
   "name": "python3"
  },
  "language_info": {
   "codemirror_mode": {
    "name": "ipython",
    "version": 3
   },
   "file_extension": ".py",
   "mimetype": "text/x-python",
   "name": "python",
   "nbconvert_exporter": "python",
   "pygments_lexer": "ipython3",
   "version": "3.12.5"
  }
 },
 "nbformat": 4,
 "nbformat_minor": 5
}
